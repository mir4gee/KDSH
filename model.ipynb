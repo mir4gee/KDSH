{
 "cells": [
  {
   "cell_type": "code",
   "execution_count": null,
   "metadata": {},
   "outputs": [],
   "source": [
    "from transformers import BertTokenizer, BertForSequenceClassification\n",
    "\n",
    "# Load the pre-trained BERT model and tokenizer\n",
    "model_name = \"bert-base-uncased\"  # You can use other BERT variants like 'bert-large-uncased'\n",
    "tokenizer = BertTokenizer.from_pretrained(model_name)\n",
    "model = BertForSequenceClassification.from_pretrained(model_name, num_labels=2)  # For binary classification"
   ]
  },
  {
   "cell_type": "code",
   "execution_count": 2,
   "metadata": {},
   "outputs": [
    {
     "name": "stdout",
     "output_type": "stream",
     "text": [
      "15\n",
      "(15, 384)\n",
      "15\n",
      "Vectorstore made\n"
     ]
    }
   ],
   "source": [
    "import data_file"
   ]
  },
  {
   "cell_type": "code",
   "execution_count": null,
   "metadata": {},
   "outputs": [],
   "source": [
    "data_list=data_file.data1\n",
    "data_list"
   ]
  },
  {
   "cell_type": "code",
   "execution_count": null,
   "metadata": {},
   "outputs": [],
   "source": [
    "data_X=[]\n",
    "data_Y=[]\n",
    "for element in data_list:\n",
    "    data_X.append(element['content'])\n",
    "    data_Y.append(element['label'])\n",
    "data_X"
   ]
  },
  {
   "cell_type": "code",
   "execution_count": 30,
   "metadata": {},
   "outputs": [],
   "source": [
    "def sliding_window_tokenize(text, max_length=512, overlap=256):\n",
    "    tokens = tokenizer.encode(text)\n",
    "    windows = []\n",
    "    for i in range(0, len(tokens), max_length - overlap):\n",
    "        window = tokens[i:i + max_length]\n",
    "        windows.append(window)\n",
    "    return windows\n",
    "tokenized_cont={}\n",
    "for i in range(len(data_X)):\n",
    "    windows = sliding_window_tokenize(data_X[i], max_length=512, overlap=256)\n",
    "    tokenized_cont[i]=windows"
   ]
  },
  {
   "cell_type": "code",
   "execution_count": 46,
   "metadata": {},
   "outputs": [
    {
     "data": {
      "text/plain": [
       "456"
      ]
     },
     "execution_count": 46,
     "metadata": {},
     "output_type": "execute_result"
    }
   ],
   "source": [
    "sum=0\n",
    "for i in range(len(tokenized_cont)):\n",
    "    sum+=len(tokenized_cont[i])\n",
    "sum"
   ]
  },
  {
   "cell_type": "code",
   "execution_count": 54,
   "metadata": {},
   "outputs": [],
   "source": [
    "from torch.utils.data import Dataset\n",
    "\n",
    "# Prepare dataset class\n",
    "class BinaryClassificationDataset(Dataset):\n",
    "    def __init__(self, tokenized_windows, labels):\n",
    "        self.tokenized_windows = tokenized_windows\n",
    "        self.labels = labels\n",
    "\n",
    "    def __len__(self):\n",
    "        return len(self.tokenized_windows)\n",
    "\n",
    "    def __getitem__(self, idx):\n",
    "        # Get the tokenized window and corresponding label\n",
    "        window = self.tokenized_windows[idx]\n",
    "        label = self.labels[idx]\n",
    "        \n",
    "        # Convert to tensor format\n",
    "        encoding = tokenizer(window, padding='max_length', truncation=True, max_length=512, return_tensors=\"pt\")\n",
    "        \n",
    "        return {\n",
    "            'input_ids': encoding['input_ids'].squeeze(0),  # Remove extra batch dimension\n",
    "            'attention_mask': encoding['attention_mask'].squeeze(0),\n",
    "            'labels': torch.tensor(label, dtype=torch.long)  # Convert label to tensor\n",
    "        }\n",
    "\n",
    "# Create the dataset\n",
    "all_windows = [window for windows in tokenized_cont.values() for window in windows]\n",
    "all_labels = [label for label in data_Y for _ in range(len(tokenized_cont[0]))]  # Replicate labels for each window\n",
    "\n",
    "# Initialize dataset\n",
    "train_dataset = BinaryClassificationDataset(all_windows, all_labels)\n"
   ]
  },
  {
   "cell_type": "code",
   "execution_count": 34,
   "metadata": {},
   "outputs": [
    {
     "data": {
      "text/plain": [
       "__main__.BinaryClassificationDataset"
      ]
     },
     "execution_count": 34,
     "metadata": {},
     "output_type": "execute_result"
    }
   ],
   "source": [
    "type(train_dataset)"
   ]
  },
  {
   "cell_type": "code",
   "execution_count": 55,
   "metadata": {},
   "outputs": [
    {
     "data": {
      "text/plain": [
       "456"
      ]
     },
     "execution_count": 55,
     "metadata": {},
     "output_type": "execute_result"
    }
   ],
   "source": [
    "len(train_dataset)"
   ]
  },
  {
   "cell_type": "code",
   "execution_count": 37,
   "metadata": {},
   "outputs": [],
   "source": [
    "from transformers import Trainer, TrainingArguments"
   ]
  },
  {
   "cell_type": "code",
   "execution_count": null,
   "metadata": {},
   "outputs": [],
   "source": [
    "training_args = TrainingArguments(\n",
    "    output_dir='./results',            # output directory for model predictions and checkpoints\n",
    "    num_train_epochs=3,                # number of training epochs\n",
    "    per_device_train_batch_size=8,     # batch size for training\n",
    "    per_device_eval_batch_size=8,      # batch size for evaluation\n",
    "    warmup_steps=500,                  # number of warmup steps for learning rate scheduler\n",
    "    weight_decay=0.01,                 # strength of weight decay\n",
    "    logging_dir='./logs',              # directory for storing logs\n",
    "    logging_steps=10,\n",
    ")\n",
    "\n",
    "# Setup Trainer\n",
    "trainer = Trainer(\n",
    "    model=model, \n",
    "    args=training_args,\n",
    "    train_dataset=train_dataset,         # Pass the dataset\n",
    ")\n",
    "\n",
    "# Fine-tune the model\n",
    "trainer.train()"
   ]
  }
 ],
 "metadata": {
  "language_info": {
   "name": "python"
  }
 },
 "nbformat": 4,
 "nbformat_minor": 2
}
